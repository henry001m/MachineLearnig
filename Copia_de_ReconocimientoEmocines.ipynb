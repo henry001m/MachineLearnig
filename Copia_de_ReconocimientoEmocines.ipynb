{
  "nbformat": 4,
  "nbformat_minor": 0,
  "metadata": {
    "colab": {
      "name": "Copia de ReconocimientoEmocines.ipynb",
      "provenance": [],
      "collapsed_sections": []
    },
    "kernelspec": {
      "name": "python3",
      "display_name": "Python 3"
    },
    "language_info": {
      "name": "python"
    }
  },
  "cells": [
    {
      "cell_type": "code",
      "execution_count": null,
      "metadata": {
        "id": "oYwr9heA5qOs",
        "colab": {
          "base_uri": "https://localhost:8080/"
        },
        "outputId": "022cf6ba-cdf3-4ce0-e00f-983f8dfa53bc"
      },
      "outputs": [
        {
          "output_type": "stream",
          "name": "stdout",
          "text": [
            "Mounted at /content/drive\n"
          ]
        }
      ],
      "source": [
        "from google.colab import drive\n",
        "drive.mount('/content/drive')"
      ]
    },
    {
      "cell_type": "code",
      "source": [
        "import librosa\n",
        "import soundfile\n",
        "import os, glob, pickle\n",
        "import numpy as np\n",
        "import pandas as pd\n",
        "import seaborn as sns\n",
        "\n",
        "\n",
        "from sklearn.model_selection import train_test_split\n",
        "from sklearn.preprocessing import StandardScaler\n",
        "from sklearn.decomposition import PCA\n",
        "\n",
        "import time\n",
        "import matplotlib\n",
        "import matplotlib.pyplot as plt\n",
        "from sklearn.cluster import KMeans\n",
        "\n"
      ],
      "metadata": {
        "id": "tpVC0KBP8Zzv"
      },
      "execution_count": null,
      "outputs": []
    },
    {
      "cell_type": "code",
      "source": [
        "#Para extraer los features del audio\n",
        "def extract_feature(file_name):\n",
        "  x, sample_rate = librosa.load(file_name)\n",
        "\n",
        "  stft = np.abs(librosa.stft(x))\n",
        "\n",
        "  result = np.array([])\n",
        "\n",
        "  #mfcc\n",
        "  mfccs = np.mean(librosa.feature.mfcc(y=x, sr=sample_rate).T, axis=0)\n",
        "  result = np.hstack((result, mfccs))\n",
        "\n",
        "  #chroma\n",
        "  chroma = np.mean(librosa.feature.chroma_stft(S=stft, sr=sample_rate).T, axis = 0)\n",
        "  result = np.hstack((result, chroma))\n",
        "\n",
        "  #spectrograma de mel\n",
        "  mel = np.mean(librosa.feature.melspectrogram(x, sr=sample_rate).T, axis = 0)\n",
        "  result = np.hstack((result, mel))\n",
        "  return result"
      ],
      "metadata": {
        "id": "xCcAPOFS8oZx"
      },
      "execution_count": null,
      "outputs": []
    },
    {
      "cell_type": "code",
      "source": [
        "#Para cargar los datos del Drive Compartido\n",
        "def load_data():\n",
        "  x = []\n",
        "  labels_x = []\n",
        "\n",
        "  for file in glob.glob(\"/content/drive/Shareddrives/Reconocimiento de Voz Drive/AudioData/*/*.wav\"):\n",
        "    file_name = os.path.basename(file)\n",
        "    feature = extract_feature(file)\n",
        "    labels_x.append(file_name[:-6])\n",
        "    x.append(feature)\n",
        "\n",
        "  return np.array(x),np.array(labels_x)"
      ],
      "metadata": {
        "id": "WZkw_5F5AvLq"
      },
      "execution_count": null,
      "outputs": []
    },
    {
      "cell_type": "code",
      "source": [
        "#cargamos y extraemos los features de los audios\n",
        "#ademas se extrae las etiquetas para poder realizar la validacion\n",
        "X,label_x = load_data()"
      ],
      "metadata": {
        "id": "4qDCpTcaFQuU"
      },
      "execution_count": null,
      "outputs": []
    },
    {
      "cell_type": "code",
      "source": [
        "#verificamos la cantidad de emociones\n",
        "codes = np.unique(label_x)\n",
        "print(codes)\n",
        "print(len(codes))"
      ],
      "metadata": {
        "colab": {
          "base_uri": "https://localhost:8080/"
        },
        "id": "GGmyJeOlO1lt",
        "outputId": "24c54b6f-e736-4a08-ab58-20e121404798"
      },
      "execution_count": null,
      "outputs": [
        {
          "output_type": "stream",
          "name": "stdout",
          "text": [
            "['a' 'd' 'f' 'h' 'n' 'sa' 'su']\n",
            "7\n"
          ]
        }
      ]
    },
    {
      "cell_type": "code",
      "source": [
        "#El primer numero nos muestra el numero de archivos que tenemos\n",
        "#Y el segundo imprime el numbero de features/characteristicas que tiene los archivos\n",
        "print(X.shape)"
      ],
      "metadata": {
        "id": "i4Lw7-8TFdUV",
        "colab": {
          "base_uri": "https://localhost:8080/"
        },
        "outputId": "313f4439-5a8d-4559-fd33-d015c171c29e"
      },
      "execution_count": null,
      "outputs": [
        {
          "output_type": "stream",
          "name": "stdout",
          "text": [
            "(480, 160)\n"
          ]
        }
      ]
    },
    {
      "cell_type": "code",
      "source": [
        "def shuffle_data(X_scl, codes):\n",
        "\n",
        "    # Pondremos a un lado el conjunto de prueba \n",
        "    # No los tocaremos hasta el final.\n",
        "    X_train, X_test, y_train, y_test = train_test_split(X_scl, codes, test_size=1, random_state=728)\n",
        "    return X_train, y_train"
      ],
      "metadata": {
        "id": "GbvWC6o0DbVl"
      },
      "execution_count": null,
      "outputs": []
    },
    {
      "cell_type": "code",
      "source": [
        "#Conjunto de entrenamiento randomisao (mescla de muestras)\n",
        "X, y_train = shuffle_data(X, label_x)"
      ],
      "metadata": {
        "id": "eY-8JyzsDeBE"
      },
      "execution_count": null,
      "outputs": []
    },
    {
      "cell_type": "code",
      "source": [
        "#Estandarizamos nuestros datos con la clase de estanderacion StandardScaler()\n",
        "scaler = StandardScaler()\n",
        "X_scl = scaler.fit_transform(X)\n",
        "print(f'feature: {X_scl.shape[1]}')"
      ],
      "metadata": {
        "colab": {
          "base_uri": "https://localhost:8080/"
        },
        "id": "jGkDsenzdMwS",
        "outputId": "6aab04ce-ae9b-471f-97ab-95b5a48fc0b8"
      },
      "execution_count": null,
      "outputs": [
        {
          "output_type": "stream",
          "name": "stdout",
          "text": [
            "feature: 160\n"
          ]
        }
      ]
    },
    {
      "cell_type": "code",
      "source": [
        "#Mostramos la relacion entre caracteristica\n",
        "sns.heatmap(pd.DataFrame(X_scl).corr(), cmap=\"YlGnBu\").set(title=\"Correlations entre features\");"
      ],
      "metadata": {
        "colab": {
          "base_uri": "https://localhost:8080/",
          "height": 290
        },
        "id": "pm_1J-59gol7",
        "outputId": "6ef4d373-04c2-462b-b788-ad12f4c48443"
      },
      "execution_count": null,
      "outputs": [
        {
          "output_type": "display_data",
          "data": {
            "text/plain": [
              "<Figure size 432x288 with 2 Axes>"
            ],
            "image/png": "[encoded data removed]"
          },
          "metadata": {
            "needs_background": "light"
          }
        }
      ]
    },
    {
      "cell_type": "code",
      "source": [
        "#Con la funcion PCA() obtenemos la relacion de la varianzia explicado para luego poder sacar\n",
        "#los features mas importantes\n",
        "pca = PCA()\n",
        "pca.fit(X_scl);\n",
        "\n",
        "evr = pca.explained_variance_ratio_\n",
        "evr"
      ],
      "metadata": {
        "colab": {
          "base_uri": "https://localhost:8080/"
        },
        "id": "9XI8wMZ3YdwG",
        "outputId": "fbe9d45d-dc04-4d26-e8d1-dabab1a100cf"
      },
      "execution_count": null,
      "outputs": [
        {
          "output_type": "execute_result",
          "data": {
            "text/plain": [
              "array([4.40371628e-01, 6.97757319e-02, 5.05624846e-02, 4.33761158e-02,\n",
              "       3.60146503e-02, 2.61119941e-02, 2.29123703e-02, 2.15586439e-02,\n",
              "       1.80230393e-02, 1.62990127e-02, 1.58123204e-02, 1.54792820e-02,\n",
              "       1.30464329e-02, 1.22989399e-02, 1.19951484e-02, 9.58402036e-03,\n",
              "       9.26099413e-03, 9.09526700e-03, 8.20136877e-03, 7.31891690e-03,\n",
              "       6.86381573e-03, 6.17108190e-03, 6.00949559e-03, 5.78447567e-03,\n",
              "       5.54487869e-03, 5.46754918e-03, 5.34042732e-03, 4.85873381e-03,\n",
              "       4.69911576e-03, 4.23252576e-03, 4.08574033e-03, 3.75554667e-03,\n",
              "       3.58701384e-03, 3.54378523e-03, 3.20821765e-03, 3.12695725e-03,\n",
              "       3.05459937e-03, 2.83020797e-03, 2.67931066e-03, 2.55873612e-03,\n",
              "       2.38010281e-03, 2.32517717e-03, 2.22665158e-03, 2.14754004e-03,\n",
              "       1.98822164e-03, 1.97141443e-03, 1.91269061e-03, 1.72299637e-03,\n",
              "       1.65943315e-03, 1.61134599e-03, 1.54900810e-03, 1.50024780e-03,\n",
              "       1.46434333e-03, 1.39635054e-03, 1.38495070e-03, 1.29181261e-03,\n",
              "       1.22718707e-03, 1.19110362e-03, 1.17970773e-03, 1.12983533e-03,\n",
              "       1.08931068e-03, 9.97732152e-04, 9.71482701e-04, 9.47665157e-04,\n",
              "       9.24498596e-04, 8.74355627e-04, 8.16086763e-04, 8.07663824e-04,\n",
              "       7.69017816e-04, 6.95222004e-04, 6.74940817e-04, 6.68797762e-04,\n",
              "       6.11082460e-04, 5.87434971e-04, 5.52707092e-04, 5.05992364e-04,\n",
              "       4.85967343e-04, 4.77968488e-04, 4.35285540e-04, 4.17222456e-04,\n",
              "       4.03979247e-04, 4.00727405e-04, 3.65905592e-04, 3.55709531e-04,\n",
              "       3.36667740e-04, 3.22392697e-04, 3.01136620e-04, 2.76759010e-04,\n",
              "       2.63329318e-04, 2.51145196e-04, 2.47466173e-04, 2.34860392e-04,\n",
              "       2.32528755e-04, 2.14512171e-04, 2.02429222e-04, 1.87089302e-04,\n",
              "       1.80149411e-04, 1.61179794e-04, 1.54075509e-04, 1.51087766e-04,\n",
              "       1.44975778e-04, 1.42070994e-04, 1.38745852e-04, 1.32762704e-04,\n",
              "       1.23050428e-04, 1.19985622e-04, 1.13339087e-04, 1.10130055e-04,\n",
              "       1.06604709e-04, 1.00779083e-04, 9.38082812e-05, 8.67375523e-05,\n",
              "       8.44690695e-05, 7.93264880e-05, 7.50387511e-05, 7.01948083e-05,\n",
              "       6.62089639e-05, 6.41723051e-05, 5.89011199e-05, 5.65856228e-05,\n",
              "       5.40204699e-05, 5.16082212e-05, 4.55964925e-05, 4.40837085e-05,\n",
              "       4.20305809e-05, 3.92785171e-05, 3.63852194e-05, 3.37220361e-05,\n",
              "       3.13679604e-05, 3.04888063e-05, 2.91775614e-05, 2.77027392e-05,\n",
              "       2.60027659e-05, 2.26734445e-05, 1.93945935e-05, 1.89577769e-05,\n",
              "       1.84756844e-05, 1.56959547e-05, 1.40261209e-05, 1.32254751e-05,\n",
              "       1.17787377e-05, 1.12044630e-05, 9.72376036e-06, 8.97836039e-06,\n",
              "       8.37413472e-06, 8.25328378e-06, 6.80824836e-06, 6.42624151e-06,\n",
              "       6.00334347e-06, 5.55020288e-06, 4.48180345e-06, 3.59518066e-06,\n",
              "       3.16507601e-06, 2.72365383e-06, 2.01166253e-06, 1.46103990e-06,\n",
              "       1.28001913e-06, 8.41986510e-07, 7.96044708e-07, 4.79530707e-07])"
            ]
          },
          "metadata": {},
          "execution_count": 12
        }
      ]
    },
    {
      "cell_type": "code",
      "source": [
        "# para trazar la varianza explicativa acumulativa de los componentes de PCA\n",
        "# Esto nos ayudará a decidir cuántos componentes debemos reducir en nuestras funciones#\n",
        "plt.plot(np.cumsum(evr))"
      ],
      "metadata": {
        "colab": {
          "base_uri": "https://localhost:8080/",
          "height": 283
        },
        "id": "S004vU_KY4d1",
        "outputId": "48e59ffe-49ba-44aa-e9b5-bcc702fd1d31"
      },
      "execution_count": null,
      "outputs": [
        {
          "output_type": "execute_result",
          "data": {
            "text/plain": [
              "[<matplotlib.lines.Line2D at 0x7f8a1d856a90>]"
            ]
          },
          "metadata": {},
          "execution_count": 13
        },
        {
          "output_type": "display_data",
          "data": {
            "text/plain": [
              "<Figure size 432x288 with 1 Axes>"
            ],
            "image/png": "[encoded data removed]"
          },
          "metadata": {
            "needs_background": "light"
          }
        }
      ]
    },
    {
      "cell_type": "code",
      "source": [
        "#Con el metodo cumsum() evaluamos cada feature su valor de\n",
        "# relacion de la varianzia explicado\n",
        "#de tal forma filtrando los features mas importantes\n",
        "for i, exp_var in enumerate(evr.cumsum()):\n",
        "    if exp_var >= 0.8:\n",
        "        n_comps = i + 1\n",
        "        break\n",
        "print(\"Number of components:\", n_comps)\n",
        "pca = PCA(n_components = n_comps)\n",
        "pca.fit(X_scl)\n",
        "scores_pca = pca.transform(X_scl)\n",
        "scores_pca.shape"
      ],
      "metadata": {
        "colab": {
          "base_uri": "https://localhost:8080/"
        },
        "id": "mDOjjfKpeeSh",
        "outputId": "54afa8d8-4e3e-4206-a689-fc3b051d0a99"
      },
      "execution_count": null,
      "outputs": [
        {
          "output_type": "stream",
          "name": "stdout",
          "text": [
            "Number of components: 14\n"
          ]
        },
        {
          "output_type": "execute_result",
          "data": {
            "text/plain": [
              "(479, 14)"
            ]
          },
          "metadata": {},
          "execution_count": 14
        }
      ]
    },
    {
      "cell_type": "code",
      "source": [
        "#relacion entre caracteristicas de pca\n",
        "sns.heatmap(pd.DataFrame(scores_pca).corr(), cmap=\"YlGnBu\").set(title=\"Correlations entre features\");"
      ],
      "metadata": {
        "colab": {
          "base_uri": "https://localhost:8080/",
          "height": 281
        },
        "id": "ch8BOhNJeFUw",
        "outputId": "d34051f0-31b6-465f-8e6f-e670ce398b55"
      },
      "execution_count": null,
      "outputs": [
        {
          "output_type": "display_data",
          "data": {
            "text/plain": [
              "<Figure size 432x288 with 2 Axes>"
            ],
            "image/png": "[encoded data removed]"
          },
          "metadata": {
            "needs_background": "light"
          }
        }
      ]
    },
    {
      "cell_type": "code",
      "source": [
        "#funcion para crear el modelo de clusters\n",
        "def create_train_kmeans(data, number_of_clusters=len(codes)):\n",
        "    k = KMeans(n_clusters=number_of_clusters, random_state=728)\n",
        "\n",
        "    # Haremos algunos horarios para ver cuánto tiempo lleva entrenar.\n",
        "    start = time.time()\n",
        "\n",
        "    # Entrenarlo\n",
        "    k.fit(data)\n",
        "\n",
        "    # Detener el tiempo\n",
        "    end = time.time()\n",
        "\n",
        "    # Y miramos cuánto tiempo nos tomó esto\n",
        "    print(\"Training took {} seconds\".format(end-start))\n",
        "    \n",
        "    return k"
      ],
      "metadata": {
        "id": "uqwlJ1NveFWz"
      },
      "execution_count": null,
      "outputs": []
    },
    {
      "cell_type": "code",
      "source": [
        "# Aquí creamos y ajustamos un modelo KMeans con la salida PCA\n",
        "K_scores_pca = create_train_kmeans(scores_pca)"
      ],
      "metadata": {
        "colab": {
          "base_uri": "https://localhost:8080/"
        },
        "id": "_mZFbp0dg17n",
        "outputId": "812d0f2a-1baf-41b2-c90c-aea988df0172"
      },
      "execution_count": null,
      "outputs": [
        {
          "output_type": "stream",
          "name": "stdout",
          "text": [
            "Training took 0.06600332260131836 seconds\n"
          ]
        }
      ]
    },
    {
      "cell_type": "code",
      "source": [
        "# Ahora tenemos las predicciones del modelo cluster\n",
        "\n",
        "# KMeans con salidas PCA\n",
        "k_pred_pca = K_scores_pca.predict(scores_pca)\n",
        "k_pred_pca"
      ],
      "metadata": {
        "id": "jHwn_jS1g19r",
        "colab": {
          "base_uri": "https://localhost:8080/"
        },
        "outputId": "80e08dd3-0dbb-42d0-b2d4-b32ef71d28d3"
      },
      "execution_count": null,
      "outputs": [
        {
          "output_type": "execute_result",
          "data": {
            "text/plain": [
              "array([5, 5, 2, 5, 2, 2, 1, 5, 1, 1, 2, 1, 1, 1, 2, 1, 5, 0, 1, 2, 5, 0,\n",
              "       5, 2, 5, 1, 2, 1, 5, 1, 1, 1, 2, 2, 4, 1, 2, 2, 4, 1, 2, 4, 1, 5,\n",
              "       2, 1, 0, 1, 1, 2, 1, 1, 2, 1, 1, 5, 0, 6, 5, 5, 5, 5, 0, 1, 2, 5,\n",
              "       2, 5, 0, 5, 1, 2, 5, 1, 5, 5, 1, 2, 2, 1, 1, 1, 3, 5, 1, 1, 1, 0,\n",
              "       5, 5, 1, 2, 2, 5, 0, 1, 1, 1, 0, 5, 2, 1, 5, 2, 1, 0, 1, 1, 1, 2,\n",
              "       5, 2, 0, 1, 2, 5, 2, 5, 2, 5, 1, 2, 1, 1, 5, 5, 1, 0, 2, 0, 4, 1,\n",
              "       5, 5, 1, 1, 0, 1, 1, 1, 0, 2, 1, 2, 0, 5, 2, 0, 1, 5, 2, 1, 5, 1,\n",
              "       1, 1, 2, 5, 1, 1, 5, 0, 1, 5, 1, 2, 1, 0, 5, 1, 5, 5, 1, 1, 2, 1,\n",
              "       1, 1, 1, 5, 0, 1, 5, 1, 5, 1, 0, 2, 1, 2, 5, 5, 2, 5, 1, 5, 5, 1,\n",
              "       1, 5, 2, 2, 1, 1, 5, 5, 1, 5, 1, 0, 1, 1, 1, 0, 1, 5, 1, 1, 1, 2,\n",
              "       1, 5, 2, 1, 5, 1, 2, 5, 1, 2, 1, 5, 1, 1, 2, 5, 1, 1, 1, 1, 2, 2,\n",
              "       5, 1, 5, 0, 2, 1, 0, 1, 2, 2, 2, 1, 0, 1, 1, 0, 1, 2, 5, 1, 0, 0,\n",
              "       1, 5, 2, 1, 4, 0, 1, 2, 1, 2, 2, 2, 5, 2, 1, 5, 2, 5, 2, 2, 5, 5,\n",
              "       0, 5, 2, 2, 2, 5, 1, 1, 1, 1, 1, 1, 1, 1, 5, 2, 1, 2, 1, 5, 2, 5,\n",
              "       1, 5, 5, 1, 2, 2, 1, 5, 0, 1, 1, 5, 0, 1, 1, 2, 2, 2, 0, 2, 2, 1,\n",
              "       1, 1, 5, 0, 1, 2, 1, 0, 2, 0, 1, 0, 1, 1, 1, 1, 5, 2, 2, 2, 5, 2,\n",
              "       1, 1, 2, 4, 2, 5, 5, 0, 2, 1, 1, 1, 1, 5, 2, 1, 1, 2, 1, 1, 2, 2,\n",
              "       2, 1, 2, 2, 2, 1, 2, 2, 1, 5, 1, 2, 1, 5, 1, 2, 0, 1, 5, 5, 5, 2,\n",
              "       1, 5, 5, 1, 4, 1, 1, 2, 2, 5, 1, 1, 0, 0, 1, 5, 5, 5, 2, 2, 1, 2,\n",
              "       1, 1, 2, 5, 5, 2, 1, 2, 5, 5, 1, 1, 1, 5, 5, 1, 5, 2, 1, 5, 5, 1,\n",
              "       1, 1, 0, 0, 0, 1, 4, 5, 1, 5, 5, 2, 5, 1, 5, 2, 1, 1, 1, 0, 5, 2,\n",
              "       1, 4, 2, 2, 5, 1, 2, 5, 0, 2, 4, 1, 2, 2, 2, 2, 1], dtype=int32)"
            ]
          },
          "metadata": {},
          "execution_count": 18
        }
      ]
    },
    {
      "cell_type": "code",
      "source": [
        "#funcion para contar cuántos hay de cada etiqueta por cada grupo\n",
        "def cluster_label_count(clusters, labels):\n",
        "    \n",
        "    count = {}\n",
        "\n",
        "    # Obtenemos los clusters y las etiquetas\n",
        "    unique_clusters = list(set(clusters))\n",
        "    unique_labels = list(set(labels))\n",
        "    \n",
        "    #Creamos un contador para cada combinación del clúster \n",
        "    #sobre(/) etiqueta  y establecerlo en 0\n",
        "    for cluster in unique_clusters:\n",
        "        count[cluster] = {}\n",
        "        \n",
        "        for label in unique_labels:\n",
        "            count[cluster][label] = 0\n",
        "\n",
        "    for i in range(len(clusters)):\n",
        "        count[clusters[i]][labels[i]] +=1\n",
        "    \n",
        "    cluster_df = pd.DataFrame(count)\n",
        "    \n",
        "    return cluster_df"
      ],
      "metadata": {
        "id": "ZcLinJeDhxDy"
      },
      "execution_count": null,
      "outputs": []
    },
    {
      "cell_type": "code",
      "source": [
        "cluster_count_pca = cluster_label_count(k_pred_pca, y_train)"
      ],
      "metadata": {
        "id": "Sd3oVLPvXnDo"
      },
      "execution_count": null,
      "outputs": []
    },
    {
      "cell_type": "code",
      "source": [
        "#muetra el conteo de las etiquetas por grupo\n",
        "cluster_count_pca"
      ],
      "metadata": {
        "colab": {
          "base_uri": "https://localhost:8080/",
          "height": 269
        },
        "id": "PMlMsUSsiUHQ",
        "outputId": "2a5d6dfa-7cad-4ac3-b1a0-1e82b9b696fa"
      },
      "execution_count": null,
      "outputs": [
        {
          "output_type": "execute_result",
          "data": {
            "text/plain": [
              "     0   1   2  3  4   5  6\n",
              "sa   0  42  15  0  0   3  0\n",
              "f   13  10  15  0  1  21  0\n",
              "n    0  90  30  0  0   0  0\n",
              "su  14   3  15  1  0  27  0\n",
              "d    1  37  15  0  0   6  0\n",
              "a    6   3  15  0  9  26  1\n",
              "h   13   1  15  0  0  31  0"
            ],
            "text/html": [
              "\n",
              "  <div id=\"df-0ad59254-495a-42d4-af2a-10b8aee1e92a\">\n",
              "    <div class=\"colab-df-container\">\n",
              "      <div>\n",
              "<style scoped>\n",
              "    .dataframe tbody tr th:only-of-type {\n",
              "        vertical-align: middle;\n",
              "    }\n",
              "\n",
              "    .dataframe tbody tr th {\n",
              "        vertical-align: top;\n",
              "    }\n",
              "\n",
              "    .dataframe thead th {\n",
              "        text-align: right;\n",
              "    }\n",
              "</style>\n",
              "<table border=\"1\" class=\"dataframe\">\n",
              "  <thead>\n",
              "    <tr style=\"text-align: right;\">\n",
              "      <th></th>\n",
              "      <th>0</th>\n",
              "      <th>1</th>\n",
              "      <th>2</th>\n",
              "      <th>3</th>\n",
              "      <th>4</th>\n",
              "      <th>5</th>\n",
              "      <th>6</th>\n",
              "    </tr>\n",
              "  </thead>\n",
              "  <tbody>\n",
              "    <tr>\n",
              "      <th>sa</th>\n",
              "      <td>0</td>\n",
              "      <td>42</td>\n",
              "      <td>15</td>\n",
              "      <td>0</td>\n",
              "      <td>0</td>\n",
              "      <td>3</td>\n",
              "      <td>0</td>\n",
              "    </tr>\n",
              "    <tr>\n",
              "      <th>f</th>\n",
              "      <td>13</td>\n",
              "      <td>10</td>\n",
              "      <td>15</td>\n",
              "      <td>0</td>\n",
              "      <td>1</td>\n",
              "      <td>21</td>\n",
              "      <td>0</td>\n",
              "    </tr>\n",
              "    <tr>\n",
              "      <th>n</th>\n",
              "      <td>0</td>\n",
              "      <td>90</td>\n",
              "      <td>30</td>\n",
              "      <td>0</td>\n",
              "      <td>0</td>\n",
              "      <td>0</td>\n",
              "      <td>0</td>\n",
              "    </tr>\n",
              "    <tr>\n",
              "      <th>su</th>\n",
              "      <td>14</td>\n",
              "      <td>3</td>\n",
              "      <td>15</td>\n",
              "      <td>1</td>\n",
              "      <td>0</td>\n",
              "      <td>27</td>\n",
              "      <td>0</td>\n",
              "    </tr>\n",
              "    <tr>\n",
              "      <th>d</th>\n",
              "      <td>1</td>\n",
              "      <td>37</td>\n",
              "      <td>15</td>\n",
              "      <td>0</td>\n",
              "      <td>0</td>\n",
              "      <td>6</td>\n",
              "      <td>0</td>\n",
              "    </tr>\n",
              "    <tr>\n",
              "      <th>a</th>\n",
              "      <td>6</td>\n",
              "      <td>3</td>\n",
              "      <td>15</td>\n",
              "      <td>0</td>\n",
              "      <td>9</td>\n",
              "      <td>26</td>\n",
              "      <td>1</td>\n",
              "    </tr>\n",
              "    <tr>\n",
              "      <th>h</th>\n",
              "      <td>13</td>\n",
              "      <td>1</td>\n",
              "      <td>15</td>\n",
              "      <td>0</td>\n",
              "      <td>0</td>\n",
              "      <td>31</td>\n",
              "      <td>0</td>\n",
              "    </tr>\n",
              "  </tbody>\n",
              "</table>\n",
              "</div>\n",
              "      <button class=\"colab-df-convert\" onclick=\"convertToInteractive('df-0ad59254-495a-42d4-af2a-10b8aee1e92a')\"\n",
              "              title=\"Convert this dataframe to an interactive table.\"\n",
              "              style=\"display:none;\">\n",
              "        \n",
              "  <svg xmlns=\"http://www.w3.org/2000/svg\" height=\"24px\"viewBox=\"0 0 24 24\"\n",
              "       width=\"24px\">\n",
              "    <path d=\"M0 0h24v24H0V0z\" fill=\"none\"/>\n",
              "    <path d=\"M18.56 5.44l.94 2.06.94-2.06 2.06-.94-2.06-.94-.94-2.06-.94 2.06-2.06.94zm-11 1L8.5 8.5l.94-2.06 2.06-.94-2.06-.94L8.5 2.5l-.94 2.06-2.06.94zm10 10l.94 2.06.94-2.06 2.06-.94-2.06-.94-.94-2.06-.94 2.06-2.06.94z\"/><path d=\"M17.41 7.96l-1.37-1.37c-.4-.4-.92-.59-1.43-.59-.52 0-1.04.2-1.43.59L10.3 9.45l-7.72 7.72c-.78.78-.78 2.05 0 2.83L4 21.41c.39.39.9.59 1.41.59.51 0 1.02-.2 1.41-.59l7.78-7.78 2.81-2.81c.8-.78.8-2.07 0-2.86zM5.41 20L4 18.59l7.72-7.72 1.47 1.35L5.41 20z\"/>\n",
              "  </svg>\n",
              "      </button>\n",
              "      \n",
              "  <style>\n",
              "    .colab-df-container {\n",
              "      display:flex;\n",
              "      flex-wrap:wrap;\n",
              "      gap: 12px;\n",
              "    }\n",
              "\n",
              "    .colab-df-convert {\n",
              "      background-color: #E8F0FE;\n",
              "      border: none;\n",
              "      border-radius: 50%;\n",
              "      cursor: pointer;\n",
              "      display: none;\n",
              "      fill: #1967D2;\n",
              "      height: 32px;\n",
              "      padding: 0 0 0 0;\n",
              "      width: 32px;\n",
              "    }\n",
              "\n",
              "    .colab-df-convert:hover {\n",
              "      background-color: #E2EBFA;\n",
              "      box-shadow: 0px 1px 2px rgba(60, 64, 67, 0.3), 0px 1px 3px 1px rgba(60, 64, 67, 0.15);\n",
              "      fill: #174EA6;\n",
              "    }\n",
              "\n",
              "    [theme=dark] .colab-df-convert {\n",
              "      background-color: #3B4455;\n",
              "      fill: #D2E3FC;\n",
              "    }\n",
              "\n",
              "    [theme=dark] .colab-df-convert:hover {\n",
              "      background-color: #434B5C;\n",
              "      box-shadow: 0px 1px 3px 1px rgba(0, 0, 0, 0.15);\n",
              "      filter: drop-shadow(0px 1px 2px rgba(0, 0, 0, 0.3));\n",
              "      fill: #FFFFFF;\n",
              "    }\n",
              "  </style>\n",
              "\n",
              "      <script>\n",
              "        const buttonEl =\n",
              "          document.querySelector('#df-0ad59254-495a-42d4-af2a-10b8aee1e92a button.colab-df-convert');\n",
              "        buttonEl.style.display =\n",
              "          google.colab.kernel.accessAllowed ? 'block' : 'none';\n",
              "\n",
              "        async function convertToInteractive(key) {\n",
              "          const element = document.querySelector('#df-0ad59254-495a-42d4-af2a-10b8aee1e92a');\n",
              "          const dataTable =\n",
              "            await google.colab.kernel.invokeFunction('convertToInteractive',\n",
              "                                                     [key], {});\n",
              "          if (!dataTable) return;\n",
              "\n",
              "          const docLinkHtml = 'Like what you see? Visit the ' +\n",
              "            '<a target=\"_blank\" href=https://colab.research.google.com/notebooks/data_table.ipynb>data table notebook</a>'\n",
              "            + ' to learn more about interactive tables.';\n",
              "          element.innerHTML = '';\n",
              "          dataTable['output_type'] = 'display_data';\n",
              "          await google.colab.output.renderOutput(dataTable, element);\n",
              "          const docLink = document.createElement('div');\n",
              "          docLink.innerHTML = docLinkHtml;\n",
              "          element.appendChild(docLink);\n",
              "        }\n",
              "      </script>\n",
              "    </div>\n",
              "  </div>\n",
              "  "
            ]
          },
          "metadata": {},
          "execution_count": 21
        }
      ]
    },
    {
      "cell_type": "code",
      "source": [
        "#ajuste manual para que el índice de cada \n",
        "#etiqueta refleje en qué cluster se encuentra\n",
        "cluster_codes  = [\"su\",\"n\",\"sa\",\"d\",\"f\",\"h\",\"a\"]"
      ],
      "metadata": {
        "id": "FvKaWi84Eef4"
      },
      "execution_count": null,
      "outputs": []
    },
    {
      "cell_type": "code",
      "source": [
        "pred_codes_pca = [cluster_codes[x] for x in k_pred_pca]"
      ],
      "metadata": {
        "id": "wcs-R3s8lo5k"
      },
      "execution_count": null,
      "outputs": []
    },
    {
      "cell_type": "code",
      "source": [
        "from sklearn.metrics import accuracy_score, f1_score, precision_score, recall_score"
      ],
      "metadata": {
        "id": "nfsO5vldnJmZ"
      },
      "execution_count": null,
      "outputs": []
    },
    {
      "cell_type": "code",
      "source": [
        "#Evaluacion del rendimiento del modelo\n",
        "def print_scores(true, pred):\n",
        "    acc = accuracy_score(true, pred)\n",
        "    f1 = f1_score(true, pred, average=\"macro\")\n",
        "    ps = precision_score(true, pred, average=\"macro\")\n",
        "    rs = recall_score(true, pred, average=\"macro\")\n",
        "    return \"\\n\\tF1 Score: {0:0.8f}  |  Accuracy: {0:0.8f}   | Precision: {0:0.8f} | Recall: {0:0.8f}\".format(f1,acc)\n",
        "\n",
        "print(\"KMeans VGG16 (PCA)\", print_scores(y_train, pred_codes_pca))"
      ],
      "metadata": {
        "colab": {
          "base_uri": "https://localhost:8080/"
        },
        "id": "4Xwb1zT7ludp",
        "outputId": "d70be0d7-3c01-421b-f074-6dfcd69b30df"
      },
      "execution_count": null,
      "outputs": [
        {
          "output_type": "stream",
          "name": "stdout",
          "text": [
            "KMeans VGG16 (PCA) \n",
            "\tF1 Score: 0.20489491  |  Accuracy: 0.20489491   | Precision: 0.20489491 | Recall: 0.20489491\n"
          ]
        }
      ]
    },
    {
      "cell_type": "code",
      "source": [
        ""
      ],
      "metadata": {
        "id": "cMu9Ay84IVd0"
      },
      "execution_count": null,
      "outputs": []
    }
  ]
}